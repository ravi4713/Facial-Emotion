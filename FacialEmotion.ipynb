{
 "cells": [
  {
   "cell_type": "markdown",
   "id": "final-thailand",
   "metadata": {},
   "source": [
    "## PreProcessing\n",
    "### Importing data\n"
   ]
  },
  {
   "cell_type": "code",
   "execution_count": 88,
   "id": "integral-trance",
   "metadata": {},
   "outputs": [],
   "source": [
    "import csv\n",
    "data_dict ={}\n",
    "with open('data/facial_expressions/data/legend.csv') as data:\n",
    "    read_file = csv.reader(data)\n",
    "    next(read_file)\n",
    "    for row in read_file:\n",
    "        if row[2].lower() not in data_dict.keys():\n",
    "            data_dict[row[2].lower()] = [row[1]]\n",
    "        else:\n",
    "            data_dict[row[2].lower()].append(row[1])\n",
    "        \n"
   ]
  },
  {
   "cell_type": "code",
   "execution_count": 89,
   "id": "powered-supplement",
   "metadata": {},
   "outputs": [
    {
     "name": "stdout",
     "output_type": "stream",
     "text": [
      "8 ['anger', 'surprise', 'disgust', 'fear', 'neutral', 'happiness', 'sadness', 'contempt']\n"
     ]
    }
   ],
   "source": [
    "list_of_emotion = list(data_dict.keys())\n",
    "print(len(list_of_emotion),list_of_emotion)"
   ]
  },
  {
   "cell_type": "markdown",
   "id": "different-disclaimer",
   "metadata": {},
   "source": [
    "## Creating Master Directory"
   ]
  },
  {
   "cell_type": "code",
   "execution_count": 90,
   "id": "false-things",
   "metadata": {},
   "outputs": [],
   "source": [
    "import os\n",
    "os.mkdir('master_data')\n",
    "os.mkdir('master_data/training')\n",
    "os.mkdir('master_data/testing')"
   ]
  },
  {
   "cell_type": "code",
   "execution_count": 91,
   "id": "contemporary-bacteria",
   "metadata": {},
   "outputs": [],
   "source": [
    "for i in data_dict:\n",
    "    os.mkdir(os.path.join('master_data/training/',i))\n",
    "    os.mkdir(os.path.join('master_data/testing/',i))\n",
    "    \n",
    "    "
   ]
  },
  {
   "cell_type": "code",
   "execution_count": 92,
   "id": "mediterranean-permission",
   "metadata": {},
   "outputs": [],
   "source": [
    "from shutil import copyfile\n",
    "split_size = 0.8\n",
    "\n",
    "for emotion, images in data_dict.items():\n",
    "    train_size = int(split_size * len(images))\n",
    "    train_images = images[:train_size]\n",
    "    test_images = images[train_size:]\n",
    "    for image in train_images:\n",
    "        source = os.path.join('data/facial_expressions/images',image)\n",
    "        dest = os.path.join('master_data/training',emotion,image)\n",
    "        copyfile(source, dest)\n",
    "    for image in test_images:\n",
    "        source = os.path.join('data/facial_expressions/images',image)\n",
    "        dest = os.path.join('master_data/testing',emotion,image)\n",
    "        copyfile(source, dest)"
   ]
  },
  {
   "cell_type": "markdown",
   "id": "existing-attribute",
   "metadata": {},
   "source": [
    "## Model by using keras nn and iamgedatagenerator\n",
    "#### imagedatagenrator will convert data into one hot encode "
   ]
  },
  {
   "cell_type": "code",
   "execution_count": 93,
   "id": "owned-blend",
   "metadata": {},
   "outputs": [],
   "source": [
    "import tensorflow as tf\n",
    "from tensorflow.keras.preprocessing.image import ImageDataGenerator\n",
    "from tensorflow.keras.optimizers import Adam\n",
    "from tensorflow.keras.callbacks import EarlyStopping\n",
    "from tensorflow.keras.layers import Conv2D, MaxPooling2D, Dense, Flatten"
   ]
  },
  {
   "cell_type": "code",
   "execution_count": 94,
   "id": "resident-portable",
   "metadata": {},
   "outputs": [
    {
     "name": "stdout",
     "output_type": "stream",
     "text": [
      "Model: \"sequential_8\"\n",
      "_________________________________________________________________\n",
      "Layer (type)                 Output Shape              Param #   \n",
      "=================================================================\n",
      "conv2d_24 (Conv2D)           (None, 98, 98, 16)        448       \n",
      "_________________________________________________________________\n",
      "max_pooling2d_24 (MaxPooling (None, 49, 49, 16)        0         \n",
      "_________________________________________________________________\n",
      "conv2d_25 (Conv2D)           (None, 47, 47, 32)        4640      \n",
      "_________________________________________________________________\n",
      "max_pooling2d_25 (MaxPooling (None, 23, 23, 32)        0         \n",
      "_________________________________________________________________\n",
      "conv2d_26 (Conv2D)           (None, 21, 21, 64)        18496     \n",
      "_________________________________________________________________\n",
      "max_pooling2d_26 (MaxPooling (None, 10, 10, 64)        0         \n",
      "_________________________________________________________________\n",
      "flatten_8 (Flatten)          (None, 6400)              0         \n",
      "_________________________________________________________________\n",
      "dense_16 (Dense)             (None, 1024)              6554624   \n",
      "_________________________________________________________________\n",
      "dense_17 (Dense)             (None, 8)                 8200      \n",
      "=================================================================\n",
      "Total params: 6,586,408\n",
      "Trainable params: 6,586,408\n",
      "Non-trainable params: 0\n",
      "_________________________________________________________________\n"
     ]
    }
   ],
   "source": [
    "model = tf.keras.models.Sequential([\n",
    "    Conv2D(16,(3, 3), activation='relu', input_shape =(100,100,3)),\n",
    "    MaxPooling2D(2,2),\n",
    "    Conv2D(32,(3, 3), activation='relu'),\n",
    "    MaxPooling2D(2,2),\n",
    "    Conv2D(64,(3, 3), activation='relu'),\n",
    "    MaxPooling2D(2,2),\n",
    "    Flatten(),\n",
    "    Dense(1024, activation = 'relu'),\n",
    "    Dense(8, activation='softmax')\n",
    "])\n",
    "model.compile(optimizer = Adam(lr=0.01), loss= 'categorical_crossentropy', metrics =['acc'])\n",
    "model.summary()"
   ]
  },
  {
   "cell_type": "markdown",
   "id": "reliable-replication",
   "metadata": {},
   "source": [
    "## Training And Testing"
   ]
  },
  {
   "cell_type": "code",
   "execution_count": 95,
   "id": "vocational-samba",
   "metadata": {},
   "outputs": [
    {
     "name": "stdout",
     "output_type": "stream",
     "text": [
      "Found 10941 images belonging to 8 classes.\n",
      "Found 2742 images belonging to 8 classes.\n"
     ]
    }
   ],
   "source": [
    "train_dir = 'master_data/training/'\n",
    "test_dir = 'master_data/testing/'\n",
    "\n",
    "train_data_gen = ImageDataGenerator(rescale = 1.0/255)\n",
    "train_genrator = train_data_gen.flow_from_directory(\n",
    "    train_dir,\n",
    "    target_size = (100,100),\n",
    "    class_mode = 'categorical',\n",
    "    batch_size = 128\n",
    ")\n",
    "\n",
    "test_data_gen = ImageDataGenerator(rescale = 1.0/255)\n",
    "test_genrator = test_data_gen.flow_from_directory(\n",
    "    test_dir,\n",
    "    target_size = (100,100),\n",
    "    class_mode = 'categorical',\n",
    "    batch_size = 128\n",
    ")\n",
    "\n",
    "\n"
   ]
  },
  {
   "cell_type": "markdown",
   "id": "homeless-surrey",
   "metadata": {},
   "source": [
    "## Fitting Model"
   ]
  },
  {
   "cell_type": "code",
   "execution_count": 96,
   "id": "general-worry",
   "metadata": {},
   "outputs": [],
   "source": [
    "es = EarlyStopping(monitor = 'val_acc', patience =3 , min_delta=0.01)\n"
   ]
  },
  {
   "cell_type": "code",
   "execution_count": null,
   "id": "curious-queen",
   "metadata": {},
   "outputs": [],
   "source": [
    "model.fit(train_genrator,\n",
    "                   epochs =10,\n",
    "                   verbose = 1,\n",
    "                   validation_data = test_genrator,\n",
    "                   )"
   ]
  },
  {
   "cell_type": "code",
   "execution_count": null,
   "id": "collective-bedroom",
   "metadata": {},
   "outputs": [],
   "source": []
  }
 ],
 "metadata": {
  "kernelspec": {
   "display_name": "Python 3",
   "language": "python",
   "name": "python3"
  },
  "language_info": {
   "codemirror_mode": {
    "name": "ipython",
    "version": 3
   },
   "file_extension": ".py",
   "mimetype": "text/x-python",
   "name": "python",
   "nbconvert_exporter": "python",
   "pygments_lexer": "ipython3",
   "version": "3.8.5"
  }
 },
 "nbformat": 4,
 "nbformat_minor": 5
}
